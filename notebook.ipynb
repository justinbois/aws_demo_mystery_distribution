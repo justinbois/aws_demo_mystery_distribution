{
 "cells": [
  {
   "cell_type": "code",
   "execution_count": null,
   "metadata": {},
   "outputs": [],
   "source": [
    "import bebi103\n",
    "import bokeh.io\n",
    "bokeh.io.output_notebook()"
   ]
  },
  {
   "cell_type": "code",
   "execution_count": null,
   "metadata": {},
   "outputs": [],
   "source": [
    "# Compile model!\n",
    "sm = bebi103.stan.StanModel('mystery_distribution.stan')"
   ]
  },
  {
   "cell_type": "code",
   "execution_count": null,
   "metadata": {},
   "outputs": [],
   "source": [
    "# Sample and show!\n",
    "data = {'sigma': 1.0}\n",
    "samples = sm.sampling(data=data, warmup=5000, iter=20000, thin=10, control={'adapt_delta': 0.99})\n",
    "\n",
    "bokeh.io.show(bebi103.viz.corner(samples, vars=['x', 'y'], alpha=0.1, divergence_color='pink', cmap='red'))"
   ]
  }
 ],
 "metadata": {
  "kernelspec": {
   "display_name": "Python 3",
   "language": "python",
   "name": "python3"
  },
  "language_info": {
   "codemirror_mode": {
    "name": "ipython",
    "version": 3
   },
   "file_extension": ".py",
   "mimetype": "text/x-python",
   "name": "python",
   "nbconvert_exporter": "python",
   "pygments_lexer": "ipython3",
   "version": "3.7.0"
  }
 },
 "nbformat": 4,
 "nbformat_minor": 2
}
